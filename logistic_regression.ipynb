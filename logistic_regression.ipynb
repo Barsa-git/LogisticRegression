{
  "nbformat": 4,
  "nbformat_minor": 0,
  "metadata": {
    "colab": {
      "provenance": []
    },
    "kernelspec": {
      "name": "python3",
      "display_name": "Python 3"
    },
    "language_info": {
      "name": "python"
    }
  },
  "cells": [
    {
      "cell_type": "markdown",
      "source": [
        "#LOGISTIC REGRESSION"
      ],
      "metadata": {
        "id": "Q_CFt87PxlOo"
      }
    },
    {
      "cell_type": "markdown",
      "source": [
        "#Theoretical Questions : -"
      ],
      "metadata": {
        "id": "3pqq7AJXxqeP"
      }
    },
    {
      "cell_type": "markdown",
      "source": [
        "1.What is Logistic Regression, and how does it differ from Linear Regression?\n",
        "- Logistic regression and linear regression are both used in statistical modeling, but they differ in their purpose and the type of outcome they predict. Linear regression predicts continuous outcomes, while logistic regression predicts categorical outcomes, most commonly binary ones like yes/no or 0/1."
      ],
      "metadata": {
        "id": "mVNOQEYdx_r_"
      }
    },
    {
      "cell_type": "markdown",
      "source": [
        "2.What is the mathematical equation of Logistic Regression?\n",
        "- The core mathematical equation of Logistic Regression expresses the probability of a binary outcome (0 or 1) given a set of input features. It uses the sigmoid function to transform a linear combination of features into a probability value between 0 and 1. The general equation is: P(Y=1|X) = 1 / (1 + exp(- (β₀ + β₁X₁ + β₂X₂ + ... + βnXn))).\n",
        "- Here's a breakdown :\n",
        "  - P(Y=1|X): The probability of the event Y=1 (success) given the input features X.\n",
        "  - exp(-(...)): The exponential function, using the negative of a linear combination.\n",
        "  - β₀, β₁, β₂, ..., βn: These are the coefficients or weights associated with each feature, determining their influence on the outcome.\n",
        "  - X₁, X₂, ..., Xn: These represent the input features."
      ],
      "metadata": {
        "id": "6CJphIqvy0N2"
      }
    },
    {
      "cell_type": "markdown",
      "source": [
        "3.Why do we use the Sigmoid function in Logistic Regression?\n",
        "- The sigmoid function is used in logistic regression to transform the model's output into a probability between 0 and 1, making it ideal for binary classification.\n",
        "- This function effectively maps any real number to a value within the 0-1 range, allowing for a clear interpretation of the model's prediction as a probability of belonging to the positive class."
      ],
      "metadata": {
        "id": "RVdDtirpzh2l"
      }
    },
    {
      "cell_type": "markdown",
      "source": [
        "4.What is the cost function of Logistic Regression?\n",
        "- The cost function for logistic regression is Log Loss, also known as Cross-Entropy.\n",
        "- It's a measure of how well the model's predictions align with the actual labels.\n",
        "- Log Loss penalizes incorrect predictions more heavily, especially those that are confident but wrong.\n",
        "- It's calculated by averaging the log loss over all training examples."
      ],
      "metadata": {
        "id": "KdLB7IIn0D-8"
      }
    },
    {
      "cell_type": "markdown",
      "source": [
        "5.What is Regularization in Logistic Regression? Why is it needed?\n",
        "- Regularization in logistic regression is a technique that adds a penalty to the model's loss function, discouraging the model from assigning too much importance to any single feature or parameter, thereby reducing overfitting and improving generalization on unseen data.\n",
        "- Why is regularization needed : -\n",
        "  - Overfitting :\n",
        "    Logistic regression, like other machine learning models, can overfit the training data, meaning it learns the training set too well, including noise and irrelevant details. This leads to poor performance on new, unseen data.\n",
        "  - High dimensionality :\n",
        "    When the number of features (predictor variables) is high, the model can become overly complex and prone to overfitting, particularly when there are not enough data points to support the complexity.\n",
        "  - Generalization :\n",
        "    Regularization helps the model generalize better to new data by reducing its dependence on the specific training set. This makes the model more robust and reliable for predictions on unseen data."
      ],
      "metadata": {
        "id": "duPuWzhv0u4c"
      }
    },
    {
      "cell_type": "markdown",
      "source": [
        "6.Explain the difference between Lasso, Ridge, and Elastic Net regression.\n",
        "- Lasso, Ridge, and Elastic Net are regularization techniques used in linear regression to prevent overfitting and improve model performance.\n",
        "- They differ primarily in how they penalize the coefficients of the independent variables.\n",
        "- Lasso uses L1 regularization, which can force some coefficients to zero, effectively performing feature selection.\n",
        "- Ridge uses L2 regularization, which shrinks coefficients toward zero but doesn't force them to zero.\n",
        "- Elastic Net combines both L1 and L2 penalties, offering a balance between feature selection and handling multicollinearity."
      ],
      "metadata": {
        "id": "EJYZX3Yh1zeC"
      }
    },
    {
      "cell_type": "markdown",
      "source": [
        "7.When should we use Elastic Net instead of Lasso or Ridge?\n",
        "- Elastic Net regression is often preferred over Lasso and Ridge regression when dealing with highly correlated features, especially when you want to balance feature selection with preventing overfitting.\n",
        "- It combines the strengths of both Lasso (feature selection) and Ridge (managing multicollinearity), making it a versatile choice in many scenarios."
      ],
      "metadata": {
        "id": "kyQYBZp22vlN"
      }
    },
    {
      "cell_type": "markdown",
      "source": [
        "8.What is the impact of the regularization parameter (λ) in Logistic Regression?\n",
        "- In Logistic Regression, the regularization parameter (λ) primarily controls the model's complexity and prevents overfitting by penalizing large coefficients.\n",
        "- A higher λ value results in stronger regularization, leading to smaller coefficients and a simpler model, while a lower λ allows for more complex models that fit the training data more closely.\n",
        "- This parameter balances the trade-off between model complexity and fit to the data."
      ],
      "metadata": {
        "id": "rLTscsWD3GC-"
      }
    },
    {
      "cell_type": "markdown",
      "source": [
        "9.What are the key assumptions of Logistic Regression?\n",
        "- The key assumptions of logistic regression include a binary dependent variable, independent observations, a linear relationship between the independent variables and the log-odds of the dependent variable, and the absence of multicollinearity among independent variables. Additionally, a sufficiently large sample size is required.\n",
        "- Here's a more detailed look at each assumption :\n",
        "  - Binary Dependent Variable :\n",
        "    Logistic regression is used to predict a binary outcome (e.g., yes/no, 0/1).\n",
        "  - Independent Observations :\n",
        "    Each observation in the dataset should be independent of the others. This means that the observations should not be correlated or related to each other.\n",
        "  - Linearity in the Log-Odds :\n",
        "    The relationship between the independent variables and the log-odds of the dependent variable should be linear.\n",
        "  - Absence of Multicollinearity :\n",
        "    The independent variables should not be highly correlated with each other.\n",
        "  - Large Sample Size :\n",
        "    A sufficiently large sample size is needed to ensure that the model is stable and reliable.\n",
        "  - No Outliers :\n",
        "    Outliers can have a significant impact on the model's results, so they should be identified and addressed."
      ],
      "metadata": {
        "id": "nos9-qsX3uFF"
      }
    },
    {
      "cell_type": "markdown",
      "source": [
        "10.What are some alternatives to Logistic Regression for classification tasks?\n",
        "- Several algorithms offer alternatives to Logistic Regression for classification tasks, each with its strengths and weaknesses.\n",
        "- Some popular choices include :\n",
        "  - Decision Trees :\n",
        "    These algorithms create a hierarchical structure of decisions based on features, suitable for both regression and classification.\n",
        "  - Random Forests :\n",
        "    An ensemble of decision trees, offering improved prediction accuracy and robustness.\n",
        "  - Support Vector Machines (SVMs) :\n",
        "    Effective for finding the optimal hyperplane to separate classes, especially in high-dimensional spaces.\n",
        "  - Naive Bayes :\n",
        "    A probabilistic classifier that assumes feature independence, simple and fast but may not perform well with interdependent features.\n",
        "  - Neural Networks :\n",
        "    Powerful models capable of learning complex patterns, particularly well-suited for non-linear relationships and large datasets.\n",
        "  - Gradient Boosting :\n",
        "    Techniques like XGBoost, which combine multiple weak learners to create a strong model, often outperforming other methods in complex scenarios.\n",
        "  - Linear Discriminant Analysis (LDA) :\n",
        "    A linear classification technique that finds the optimal projection of data into a lower-dimensional space to separate classes."
      ],
      "metadata": {
        "id": "8H1otSzd4e2G"
      }
    },
    {
      "cell_type": "markdown",
      "source": [
        "11.What are Classification Evaluation Metrics?\n",
        "- Classification evaluation metrics are used to assess how well a model performs in predicting the correct class for a given input.\n",
        "- Common metrics include accuracy, precision, recall, F1-score, and AUC-ROC.\n",
        "- These metrics provide insights into the model's ability to distinguish between different classes, especially in scenarios with imbalanced datasets."
      ],
      "metadata": {
        "id": "4oWNeYWq5h72"
      }
    },
    {
      "cell_type": "markdown",
      "source": [
        "12.How does class imbalance affect Logistic Regression?\n",
        "- Class imbalance in logistic regression refers to a scenario where one class in a binary classification problem has significantly more observations than the other.\n",
        "- This can lead to a model that is biased towards the majority class, resulting in poor performance, particularly in predicting the minority class."
      ],
      "metadata": {
        "id": "1dGjWY92-zEG"
      }
    },
    {
      "cell_type": "markdown",
      "source": [
        "13.What is Hyperparameter Tuning in Logistic Regression?\n",
        "- Hyperparameter tuning in Logistic Regression involves adjusting settings (called hyperparameters) before training to optimize model performance.\n",
        "- These hyperparameters, like the learning rate or regularization strength, influence how the model learns from data.\n",
        "- The goal is to find the hyperparameter values that result in the best performance on a specific task."
      ],
      "metadata": {
        "id": "nVlSd_Lz_E7O"
      }
    },
    {
      "cell_type": "markdown",
      "source": [
        "14.What are different solvers in Logistic Regression? Which one should be used?\n",
        "- Different solvers in Logistic Regression :\n",
        "  - liblinear :\n",
        "    Suitable for small datasets. It works well for L1 and L2 regularization but does not support multinomial logistic regression directly (it uses a one-vs-rest approach for multi-class problems).\n",
        "  - lbfgs :\n",
        "    A good default choice for small to medium-sized datasets. It's a quasi-Newton method that approximates the Hessian matrix, making it efficient and robust.\n",
        "  - newton-cg :\n",
        "    Another Newton-based method that can handle small and large datasets, particularly for multiclass problems. It calculates the Hessian matrix explicitly, which can be computationally expensive for high-dimensional data.\n",
        "  - sag :\n",
        "    (Stochastic Average Gradient) and saga: (a variant of SAG) are designed for large datasets. They use stochastic gradient descent techniques, making them faster than lbfgs and newton-cg on large datasets. saga also supports L1 regularization.\n",
        "  - newton-cholesky :\n",
        "    It is well-suited for datasets where the number of samples is much larger than the number of features, especially with one-hot encoded categorical features. It computes the full Hessian matrix.\n",
        "- The selection of the solver depends on the specifics of the dataset and the problem :\n",
        "  - For small datasets, liblinear or lbfgs are often good choices.\n",
        "  - For large datasets, sag or saga can be significantly faster.\n",
        "If L1 regularization is needed, liblinear or saga should be used.\n",
        "  - For multiclass problems, lbfgs, newton-cg, sag, and saga can be used directly, while liblinear requires a one-vs-rest approach.\n",
        "  - If the number of samples is much larger than the number of features, newton-cholesky can be efficient.    "
      ],
      "metadata": {
        "id": "jlNq4yYD_dNc"
      }
    },
    {
      "cell_type": "markdown",
      "source": [
        "15.How is Logistic Regression extended for multiclass classification?\n",
        "- Logistic Regression, typically used for binary classification, can be extended to handle multiclass problems through strategies like One-vs-Rest (OvR) or multinomial logistic regression (also known as softmax regression).\n",
        "- One-vs-Rest (OvR) or One-vs-All :\n",
        "  - Concept:\n",
        "    Each class is treated as its own binary classification problem, where the model learns to distinguish that class from all other classes.\n",
        "  - Implementation:\n",
        "    In a multiclass scenario with n classes, n separate logistic regression models are trained. One model is trained to predict the probability of an input belonging to class 1 versus all other classes, another for class 2 versus all others, and so on.\n",
        "  - Prediction:\n",
        "    For a given input, the predicted class is the one with the highest probability score among all the trained models.\n",
        "- Multinomial Logistic Regression (Softmax Regression) :\n",
        "  - Concept:\n",
        "    This approach directly handles the multiclass problem by predicting probabilities for each class simultaneously.\n",
        "  - Implementation:\n",
        "    Instead of using the sigmoid function for binary classification, the softmax function is used to output a probability distribution over all classes.\n",
        "  - Prediction:\n",
        "    The predicted class is the one with the highest probability according to the softmax output.     "
      ],
      "metadata": {
        "id": "hXcxugLpA0-A"
      }
    },
    {
      "cell_type": "markdown",
      "source": [
        "16.What are the advantages and disadvantages of Logistic Regression?\n",
        "- Advantages of Logistic Regression :\n",
        "  - Easy to implement and interpret :\n",
        "    - Logistic regression is relatively straightforward to implement and understand, making it accessible to a wide range of users.\n",
        "  - Efficient training :\n",
        "    - It is computationally efficient, particularly when dealing with large datasets.\n",
        "  - Feature importance insights :\n",
        "    - The model coefficients provide insights into the importance and direction (positive or negative) of each feature in predicting the outcome, according to Medium.\n",
        "  - Performs well on linearly separable data :\n",
        "    - Logistic regression excels in scenarios where the data is linearly separable, meaning a straight line or hyperplane can accurately separate the different classes, according to a Kaggle discussion.\n",
        "  - Less prone to overfitting (under certain conditions) :\n",
        "    - Logistic regression is generally less prone to overfitting compared to other models, especially in low-dimensional scenarios.\n",
        "- Disadvantages of Logistic Regression :\n",
        "  - Assumes linearity :\n",
        "    - It assumes a linear relationship between the independent variables and the dependent variable, which may not always hold true in real-world scenarios.\n",
        "  - Overfitting in high-dimensional data :\n",
        "    - While less prone to overfitting generally, it can still overfit in high-dimensional datasets, requiring techniques like regularization to mitigate this issue.\n",
        "  - Difficulties with non-linear relationships :\n",
        "    - It struggles to capture complex, non-linear relationships, making it less suitable for problems where the relationships between variables are highly non-linear.\n",
        "  - Sensitivity to multicollinearity :\n",
        "    - It can be sensitive to multicollinearity (high correlation between independent variables), which can affect the stability and interpretation of the model's coefficients.\n",
        "  - Cannot handle complete separation :\n",
        "    - If a feature perfectly separates the two classes, the logistic regression model may not converge or be able to train, according to Christoph Molnar.\n",
        "  - May require a large dataset :\n",
        "    - While generally efficient, logistic regression can still require a relatively large dataset, especially when dealing with multiple independent variables.    "
      ],
      "metadata": {
        "id": "PaDamXVpB-HE"
      }
    },
    {
      "cell_type": "markdown",
      "source": [
        "17.What are some use cases of Logistic Regression?\n",
        "- Logistic regression is a versatile statistical method used for predicting binary outcomes, such as yes/no or true/false.\n",
        "- It's employed in various fields, including healthcare, finance, marketing, and engineering, for tasks like disease diagnosis, fraud detection, and risk assessment.\n",
        "- Here are some specific use cases of logistic regression :\n",
        "  - Healthcare :\n",
        "    - Predicting whether a tumor is malignant or benign.\n",
        "    - Identifying risk factors for diseases.\n",
        "    - Evaluating the effectiveness of treatments.\n",
        "    - Predicting the likelihood of disease in patients.\n",
        "    - Predicting patient mortality rates.\n",
        "  - Finance :\n",
        "    - Detecting fraudulent transactions.\n",
        "    - Assessing loan applications for risk.\n",
        "    - Evaluating insurance applications for risk.\n",
        "    - Predicting whether a customer will default on a loan.\n",
        "  - Marketing :\n",
        "    - Predicting whether a customer will respond to an advertisement.\n",
        "    - Predicting customer churn (likelihood of a customer leaving).\n",
        "  - Engineering :\n",
        "    - Estimating the probability of part failure in machinery.\n",
        "    - Predicting the failure of a process, system, or product.\n",
        "  - Other Applications :\n",
        "    - Email spam detection.\n",
        "    - Predicting voter behavior.\n",
        "    - Predicting user engagement with online advertisements.\n",
        "    - Identifying high performers at risk of leaving an organization.\n",
        "    - Predicting if a homeowner will default on a mortgage.     "
      ],
      "metadata": {
        "id": "_eLVZMZZD-BI"
      }
    },
    {
      "cell_type": "markdown",
      "source": [
        "18.What is the difference between Softmax Regression and Logistic Regression?\n",
        "- Logistic Regression :\n",
        "  - Classification Type : Binary (two classes)\n",
        "  - Output Function : Sigmoid function\n",
        "  - Output : Probability of belonging to one class\n",
        "  - Use Case : Predicting yes/no, true/false, or 0/1 outcomes\n",
        "- Softmax Regression :\n",
        "  - Classification Type : Multi-class (more than two classes)\n",
        "  - Output Function : Softmax function\n",
        "  - Output : Probabilities of belonging to each class, summing to 1\n",
        "  - Use Case : Classifying items into multiple categories (e.g., image recognition, text classification)"
      ],
      "metadata": {
        "id": "QeZkPAZ1FRaO"
      }
    },
    {
      "cell_type": "markdown",
      "source": [
        "19.How do we choose between One-vs-Rest (OvR) and Softmax for multiclass classification?\n",
        "- The choice between One-vs-Rest (OvR) and Softmax for multiclass classification depends on the specific problem and the algorithm used. Softmax is a method that directly addresses multiclass problems, while OvR decomposes the problem into multiple binary classifications.\n",
        "- When to use Softmax :\n",
        "  - Directly addresses multiclass problems :\n",
        "    Softmax applies directly to multiclass problems, providing a probability distribution over all classes.\n",
        "  - Neural networks :\n",
        "    It's often used as the activation function in the output layer of neural networks for multiclass classification.\n",
        "  - Logistic regression :\n",
        "    Can be used in logistic regression models, according to a Medium post.\n",
        "  - Generalization :\n",
        "    Softmax can be used in various machine learning models that need to predict probabilities for each class.\n",
        "- When to use One-vs-Rest (OvR) :\n",
        "  - Binary classification algorithms :\n",
        "    OvR decomposes the multiclass problem into multiple binary classification problems.\n",
        "  - Compatibility :\n",
        "    This strategy is suitable for algorithms that are designed to handle binary classification.\n",
        "  - Ease of implementation :\n",
        "    OvR can be easier to implement, especially for algorithms that are not natively designed for multiclass classification.     "
      ],
      "metadata": {
        "id": "kAvumC1yHsT6"
      }
    },
    {
      "cell_type": "markdown",
      "source": [
        "20.How do we interpret coefficients in Logistic Regression?\n",
        "- In logistic regression, coefficients are interpreted as changes in the log-odds of the outcome for every one-unit change in the predictor variable, holding all other variables constant.\n",
        "- The exponentiated coefficient, also known as the odds ratio, shows how much the odds of the event change for a one-unit change in the predictor."
      ],
      "metadata": {
        "id": "BZSChtn-JbEG"
      }
    },
    {
      "cell_type": "markdown",
      "source": [
        "#Practical Questions : -"
      ],
      "metadata": {
        "id": "63HVqM-BJwLa"
      }
    },
    {
      "cell_type": "markdown",
      "source": [
        "1.Write a Python program that loads a dataset, splits it into training and testing sets, applies Logistic Regression, and prints the model accuracy."
      ],
      "metadata": {
        "id": "D30o43hBJ6Rg"
      }
    },
    {
      "cell_type": "code",
      "source": [
        "import pandas as pd\n",
        "from sklearn.model_selection import train_test_split\n",
        "from sklearn.linear_model import LogisticRegression\n",
        "from sklearn.metrics import accuracy_score\n",
        "\n",
        "from sklearn.datasets import make_classification\n",
        "X, y = make_classification(n_samples=1000, n_features=20, n_informative=10, n_redundant=5, random_state=42)\n",
        "df = pd.DataFrame(X, columns=[f'feature_{i}' for i in range(X.shape[1])])\n",
        "df['target'] = y\n",
        "\n",
        "X_train, X_test, y_train, y_test = train_test_split(X, y, test_size=0.2, random_state=42)\n",
        "\n",
        "model = LogisticRegression()\n",
        "model.fit(X_train, y_train)\n",
        "\n",
        "y_pred = model.predict(X_test)\n",
        "\n",
        "accuracy = accuracy_score(y_test, y_pred)\n",
        "\n",
        "print(f\"Model Accuracy: {accuracy:.4f}\")"
      ],
      "metadata": {
        "colab": {
          "base_uri": "https://localhost:8080/"
        },
        "id": "enpyVSgeKyfn",
        "outputId": "7dbf7a0d-15d2-4399-a194-a50a40b5fed6"
      },
      "execution_count": 2,
      "outputs": [
        {
          "output_type": "stream",
          "name": "stdout",
          "text": [
            "Model Accuracy: 0.7950\n"
          ]
        }
      ]
    },
    {
      "cell_type": "markdown",
      "source": [
        "2.Write a Python program to apply L1 regularization (Lasso) on a dataset using LogisticRegression(penalty='l1') and print the model accuracy."
      ],
      "metadata": {
        "id": "dDaxqdRvLRoK"
      }
    },
    {
      "cell_type": "code",
      "source": [
        "model_l1 = LogisticRegression(penalty='l1', solver='liblinear', random_state=42) # 'liblinear' supports L1 penalty\n",
        "model_l1.fit(X_train, y_train)\n",
        "\n",
        "y_pred_l1 = model_l1.predict(X_test)\n",
        "\n",
        "accuracy_l1 = accuracy_score(y_test, y_pred_l1)\n",
        "\n",
        "print(f\"Model Accuracy with L1 Regularization: {accuracy_l1:.4f}\")"
      ],
      "metadata": {
        "colab": {
          "base_uri": "https://localhost:8080/"
        },
        "id": "6Rf0PLvBLl2l",
        "outputId": "21bf943c-aa05-4679-b736-619e8e7466e8"
      },
      "execution_count": 3,
      "outputs": [
        {
          "output_type": "stream",
          "name": "stdout",
          "text": [
            "Model Accuracy with L1 Regularization: 0.8000\n"
          ]
        }
      ]
    },
    {
      "cell_type": "markdown",
      "source": [
        "3.Write a Python program to train Logistic Regression with L2 regularization (Ridge) using LogisticRegression(penalty='l2'). Print model accuracy and coefficients."
      ],
      "metadata": {
        "id": "srMviF1HL1y6"
      }
    },
    {
      "cell_type": "code",
      "source": [
        "model_l2 = LogisticRegression(penalty='l2', random_state=42)\n",
        "model_l2.fit(X_train, y_train)\n",
        "\n",
        "y_pred_l2 = model_l2.predict(X_test)\n",
        "\n",
        "accuracy_l2 = accuracy_score(y_test, y_pred_l2)\n",
        "\n",
        "print(f\"Model Accuracy with L2 Regularization: {accuracy_l2:.4f}\")\n",
        "print(\"Model Coefficients with L2 Regularization:\")\n",
        "for i, coef in enumerate(model_l2.coef_[0]):\n",
        "  print(f\"Feature {i}: {coef:.4f}\")"
      ],
      "metadata": {
        "colab": {
          "base_uri": "https://localhost:8080/"
        },
        "id": "5nbPUVQiMLmd",
        "outputId": "b115ebc7-9c20-45a1-8022-cbf003a26993"
      },
      "execution_count": 4,
      "outputs": [
        {
          "output_type": "stream",
          "name": "stdout",
          "text": [
            "Model Accuracy with L2 Regularization: 0.7950\n",
            "Model Coefficients with L2 Regularization:\n",
            "Feature 0: -0.0982\n",
            "Feature 1: 0.1602\n",
            "Feature 2: -0.5428\n",
            "Feature 3: -0.2891\n",
            "Feature 4: -0.0663\n",
            "Feature 5: -0.2371\n",
            "Feature 6: 0.0218\n",
            "Feature 7: 0.2838\n",
            "Feature 8: 0.0642\n",
            "Feature 9: -0.0761\n",
            "Feature 10: 0.0312\n",
            "Feature 11: 0.6513\n",
            "Feature 12: -0.0061\n",
            "Feature 13: 0.0017\n",
            "Feature 14: -0.5660\n",
            "Feature 15: -0.4259\n",
            "Feature 16: -0.0441\n",
            "Feature 17: 0.3777\n",
            "Feature 18: 0.1718\n",
            "Feature 19: 0.0900\n"
          ]
        }
      ]
    },
    {
      "cell_type": "markdown",
      "source": [
        "4.Write a Python program to train Logistic Regression with Elastic Net Regularization (penalty='elasticnet')."
      ],
      "metadata": {
        "id": "qj-5FQH4MTkK"
      }
    },
    {
      "cell_type": "code",
      "source": [
        "model_elasticnet = LogisticRegression(penalty='elasticnet', solver='saga', l1_ratio=0.5, random_state=42)\n",
        "model_elasticnet.fit(X_train, y_train)\n",
        "\n",
        "y_pred_elasticnet = model_elasticnet.predict(X_test)\n",
        "\n",
        "accuracy_elasticnet = accuracy_score(y_test, y_pred_elasticnet)\n",
        "\n",
        "print(f\"Model Accuracy with Elastic Net Regularization: {accuracy_elasticnet:.4f}\")"
      ],
      "metadata": {
        "colab": {
          "base_uri": "https://localhost:8080/"
        },
        "id": "H0hQWsorMm5M",
        "outputId": "e3163c1b-2366-4cb1-b767-29c9403f8bc8"
      },
      "execution_count": 5,
      "outputs": [
        {
          "output_type": "stream",
          "name": "stdout",
          "text": [
            "Model Accuracy with Elastic Net Regularization: 0.8000\n"
          ]
        },
        {
          "output_type": "stream",
          "name": "stderr",
          "text": [
            "/usr/local/lib/python3.11/dist-packages/sklearn/linear_model/_sag.py:348: ConvergenceWarning: The max_iter was reached which means the coef_ did not converge\n",
            "  warnings.warn(\n"
          ]
        }
      ]
    },
    {
      "cell_type": "markdown",
      "source": [
        "5.Write a Python program to train a Logistic Regression model for multiclass classification using multi_class='ovr'."
      ],
      "metadata": {
        "id": "M-yPk2bTMqbo"
      }
    },
    {
      "cell_type": "code",
      "source": [
        "X_multi, y_multi = make_classification(n_samples=1000, n_features=20, n_informative=10, n_redundant=5, n_classes=3, n_clusters_per_class=1, random_state=42)\n",
        "\n",
        "X_train_multi, X_test_multi, y_train_multi, y_test_multi = train_test_split(X_multi, y_multi, test_size=0.2, random_state=42)\n",
        "\n",
        "model_ovr = LogisticRegression(multi_class='ovr', random_state=42)\n",
        "model_ovr.fit(X_train_multi, y_train_multi)\n",
        "\n",
        "y_pred_ovr = model_ovr.predict(X_test_multi)\n",
        "\n",
        "accuracy_ovr = accuracy_score(y_test_multi, y_pred_ovr)\n",
        "print(f\"Model Accuracy with multi_class='ovr': {accuracy_ovr:.4f}\")"
      ],
      "metadata": {
        "colab": {
          "base_uri": "https://localhost:8080/"
        },
        "id": "Yl4Gnmp4NCIz",
        "outputId": "6611293a-5ef0-48b9-aa9e-4400da6b4b9c"
      },
      "execution_count": 7,
      "outputs": [
        {
          "output_type": "stream",
          "name": "stdout",
          "text": [
            "Model Accuracy with multi_class='ovr': 0.9200\n"
          ]
        },
        {
          "output_type": "stream",
          "name": "stderr",
          "text": [
            "/usr/local/lib/python3.11/dist-packages/sklearn/linear_model/_logistic.py:1256: FutureWarning: 'multi_class' was deprecated in version 1.5 and will be removed in 1.7. Use OneVsRestClassifier(LogisticRegression(..)) instead. Leave it to its default value to avoid this warning.\n",
            "  warnings.warn(\n"
          ]
        }
      ]
    },
    {
      "cell_type": "markdown",
      "source": [
        "6.Write a Python program to apply GridSearchCV to tune the hyperparameters (C and penalty) of Logistic Regression.Print the best parameters and accuracy."
      ],
      "metadata": {
        "id": "l5e2WaPmNODs"
      }
    },
    {
      "cell_type": "code",
      "source": [
        "from sklearn.model_selection import GridSearchCV\n",
        "\n",
        "param_grid = {\n",
        "    'C': [0.001, 0.01, 0.1, 1, 10, 100],\n",
        "    'penalty': ['l1', 'l2']\n",
        "}\n",
        "\n",
        "grid_search = GridSearchCV(LogisticRegression(solver='liblinear', random_state=42), param_grid, cv=5, scoring='accuracy')\n",
        "grid_search.fit(X_train, y_train)\n",
        "\n",
        "print(\"Best parameters found by GridSearchCV:\")\n",
        "print(grid_search.best_params_)\n",
        "\n",
        "best_model = grid_search.best_estimator_\n",
        "y_pred_tuned = best_model.predict(X_test)\n",
        "\n",
        "accuracy_tuned = accuracy_score(y_test, y_pred_tuned)\n",
        "print(f\"Model Accuracy with tuned hyperparameters: {accuracy_tuned:.4f}\")\n"
      ],
      "metadata": {
        "colab": {
          "base_uri": "https://localhost:8080/"
        },
        "id": "tbmbuZBSNjrp",
        "outputId": "85cf2f95-bde0-4dd0-e335-81619998cf54"
      },
      "execution_count": 8,
      "outputs": [
        {
          "output_type": "stream",
          "name": "stdout",
          "text": [
            "Best parameters found by GridSearchCV:\n",
            "{'C': 0.1, 'penalty': 'l1'}\n",
            "Model Accuracy with tuned hyperparameters: 0.8100\n"
          ]
        }
      ]
    },
    {
      "cell_type": "markdown",
      "source": [
        "7.Write a Python program to evaluate Logistic Regression using Stratified K-Fold Cross-Validation.Print the average accuracy."
      ],
      "metadata": {
        "id": "ZCGwexSJNpHO"
      }
    },
    {
      "cell_type": "code",
      "source": [
        "from sklearn.model_selection import StratifiedKFold\n",
        "import numpy as np\n",
        "\n",
        "skf = StratifiedKFold(n_splits=5, shuffle=True, random_state=42)\n",
        "\n",
        "accuracies = []\n",
        "\n",
        "for fold, (train_index, test_index) in enumerate(skf.split(X, y)):\n",
        "  print(f\"--- Fold {fold+1} ---\")\n",
        "  X_train_fold, X_test_fold = X[train_index], X[test_index]\n",
        "  y_train_fold, y_test_fold = y[train_index], y[test_index]\n",
        "\n",
        "  model_skf = LogisticRegression(random_state=42)\n",
        "  model_skf.fit(X_train_fold, y_train_fold)\n",
        "\n",
        "  y_pred_fold = model_skf.predict(X_test_fold)\n",
        "\n",
        "  accuracy_fold = accuracy_score(y_test_fold, y_pred_fold)\n",
        "  print(f\"Accuracy for Fold {fold+1}: {accuracy_fold:.4f}\")\n",
        "  accuracies.append(accuracy_fold)\n",
        "\n",
        "average_accuracy = np.mean(accuracies)\n",
        "print(f\"\\nAverage Accuracy using Stratified K-Fold Cross-Validation: {average_accuracy:.4f}\")"
      ],
      "metadata": {
        "colab": {
          "base_uri": "https://localhost:8080/"
        },
        "id": "v2gURJjnN9ut",
        "outputId": "086ec747-6ca6-4e0a-9cf5-d4679d898448"
      },
      "execution_count": 9,
      "outputs": [
        {
          "output_type": "stream",
          "name": "stdout",
          "text": [
            "--- Fold 1 ---\n",
            "Accuracy for Fold 1: 0.8900\n",
            "--- Fold 2 ---\n",
            "Accuracy for Fold 2: 0.8350\n",
            "--- Fold 3 ---\n",
            "Accuracy for Fold 3: 0.8400\n",
            "--- Fold 4 ---\n",
            "Accuracy for Fold 4: 0.8050\n",
            "--- Fold 5 ---\n",
            "Accuracy for Fold 5: 0.8350\n",
            "\n",
            "Average Accuracy using Stratified K-Fold Cross-Validation: 0.8410\n"
          ]
        }
      ]
    },
    {
      "cell_type": "markdown",
      "source": [
        "8.Write a Python program to load a dataset from a CSV file, apply Logistic Regression, and evaluate its accuracy."
      ],
      "metadata": {
        "id": "As8JGIK_OO18"
      }
    },
    {
      "cell_type": "code",
      "source": [
        "data = {\n",
        "    'feature1': np.random.rand(100),\n",
        "    'feature2': np.random.rand(100),\n",
        "    'feature3': np.random.rand(100),\n",
        "    'target': np.random.randint(0, 2, 100)\n",
        "}\n",
        "dummy_df = pd.DataFrame(data)\n",
        "dummy_df.to_csv('dummy_dataset.csv', index=False)\n",
        "\n",
        "try:\n",
        "  df_from_csv = pd.read_csv('dummy_dataset.csv')\n",
        "\n",
        "  X_csv = df_from_csv.drop('target', axis=1)\n",
        "  y_csv = df_from_csv['target']\n",
        "\n",
        "  X_train_csv, X_test_csv, y_train_csv, y_test_csv = train_test_split(X_csv, y_csv, test_size=0.2, random_state=42)\n",
        "\n",
        "  model_csv = LogisticRegression(random_state=42)\n",
        "  model_csv.fit(X_train_csv, y_train_csv)\n",
        "\n",
        "  y_pred_csv = model_csv.predict(X_test_csv)\n",
        "\n",
        "  accuracy_csv = accuracy_score(y_test_csv, y_pred_csv)\n",
        "\n",
        "  print(f\"\\nModel Accuracy loaded from CSV: {accuracy_csv:.4f}\")\n",
        "\n",
        "except FileNotFoundError:\n",
        "  print(\"Error: dummy_dataset.csv not found. Please make sure the file exists.\")"
      ],
      "metadata": {
        "colab": {
          "base_uri": "https://localhost:8080/"
        },
        "id": "3lUmhWxtOfiW",
        "outputId": "8a91c4d8-c23a-4ccb-cd6e-22838526a3a9"
      },
      "execution_count": 10,
      "outputs": [
        {
          "output_type": "stream",
          "name": "stdout",
          "text": [
            "\n",
            "Model Accuracy loaded from CSV: 0.4000\n"
          ]
        }
      ]
    },
    {
      "cell_type": "markdown",
      "source": [
        "9.Write a Python program to apply RandomizedSearchCV for tuning hyperparameters (C, penalty, solver) in Logistic Regression.Print the best parameters and accuracy."
      ],
      "metadata": {
        "id": "gMyzCHh8O2ue"
      }
    },
    {
      "cell_type": "code",
      "source": [
        "from sklearn.model_selection import RandomizedSearchCV\n",
        "\n",
        "param_dist = {\n",
        "    'C': [0.001, 0.01, 0.1, 1, 10, 100],\n",
        "    'penalty': ['l1', 'l2', 'elasticnet'],\n",
        "    'solver': ['liblinear', 'lbfgs', 'saga']\n",
        "}\n",
        "\n",
        "param_dist_simplified = {\n",
        "    'C': [0.001, 0.01, 0.1, 1, 10, 100],\n",
        "    'penalty': ['l1', 'l2'],\n",
        "    'solver': ['liblinear', 'saga']\n",
        "}\n",
        "\n",
        "random_search = RandomizedSearchCV(\n",
        "    LogisticRegression(random_state=42),\n",
        "    param_distributions=param_dist_simplified,\n",
        "    n_iter=10,\n",
        "    cv=5,\n",
        "    scoring='accuracy',\n",
        "    random_state=42\n",
        ")\n",
        "random_search.fit(X_train, y_train)\n",
        "\n",
        "print(\"Best parameters found by RandomizedSearchCV:\")\n",
        "print(random_search.best_params_)\n",
        "\n",
        "best_model_random = random_search.best_estimator_\n",
        "y_pred_random_tuned = best_model_random.predict(X_test)\n",
        "\n",
        "accuracy_random_tuned = accuracy_score(y_test, y_pred_random_tuned)\n",
        "print(f\"Model Accuracy with tuned hyperparameters (RandomizedSearchCV): {accuracy_random_tuned:.4f}\")"
      ],
      "metadata": {
        "colab": {
          "base_uri": "https://localhost:8080/"
        },
        "id": "7eLvRZ6HPOM8",
        "outputId": "00fe7c0d-0085-4fe2-e195-887e22857503"
      },
      "execution_count": 11,
      "outputs": [
        {
          "output_type": "stream",
          "name": "stderr",
          "text": [
            "/usr/local/lib/python3.11/dist-packages/sklearn/linear_model/_sag.py:348: ConvergenceWarning: The max_iter was reached which means the coef_ did not converge\n",
            "  warnings.warn(\n",
            "/usr/local/lib/python3.11/dist-packages/sklearn/linear_model/_sag.py:348: ConvergenceWarning: The max_iter was reached which means the coef_ did not converge\n",
            "  warnings.warn(\n",
            "/usr/local/lib/python3.11/dist-packages/sklearn/linear_model/_sag.py:348: ConvergenceWarning: The max_iter was reached which means the coef_ did not converge\n",
            "  warnings.warn(\n",
            "/usr/local/lib/python3.11/dist-packages/sklearn/linear_model/_sag.py:348: ConvergenceWarning: The max_iter was reached which means the coef_ did not converge\n",
            "  warnings.warn(\n",
            "/usr/local/lib/python3.11/dist-packages/sklearn/linear_model/_sag.py:348: ConvergenceWarning: The max_iter was reached which means the coef_ did not converge\n",
            "  warnings.warn(\n",
            "/usr/local/lib/python3.11/dist-packages/sklearn/linear_model/_sag.py:348: ConvergenceWarning: The max_iter was reached which means the coef_ did not converge\n",
            "  warnings.warn(\n",
            "/usr/local/lib/python3.11/dist-packages/sklearn/linear_model/_sag.py:348: ConvergenceWarning: The max_iter was reached which means the coef_ did not converge\n",
            "  warnings.warn(\n",
            "/usr/local/lib/python3.11/dist-packages/sklearn/linear_model/_sag.py:348: ConvergenceWarning: The max_iter was reached which means the coef_ did not converge\n",
            "  warnings.warn(\n",
            "/usr/local/lib/python3.11/dist-packages/sklearn/linear_model/_sag.py:348: ConvergenceWarning: The max_iter was reached which means the coef_ did not converge\n",
            "  warnings.warn(\n",
            "/usr/local/lib/python3.11/dist-packages/sklearn/linear_model/_sag.py:348: ConvergenceWarning: The max_iter was reached which means the coef_ did not converge\n",
            "  warnings.warn(\n"
          ]
        },
        {
          "output_type": "stream",
          "name": "stdout",
          "text": [
            "Best parameters found by RandomizedSearchCV:\n",
            "{'solver': 'liblinear', 'penalty': 'l1', 'C': 0.1}\n",
            "Model Accuracy with tuned hyperparameters (RandomizedSearchCV): 0.8100\n"
          ]
        }
      ]
    },
    {
      "cell_type": "markdown",
      "source": [
        "10.Write a Python program to implement One-vs-One (OvO) Multiclass Logistic Regression and print accuracy."
      ],
      "metadata": {
        "id": "p-jcJA1DPseF"
      }
    },
    {
      "cell_type": "code",
      "source": [
        "from sklearn.multiclass import OneVsOneClassifier\n",
        "\n",
        "base_estimator = LogisticRegression(random_state=42)\n",
        "model_ovo = OneVsOneClassifier(base_estimator)\n",
        "\n",
        "model_ovo.fit(X_train_multi, y_train_multi)\n",
        "\n",
        "y_pred_ovo = model_ovo.predict(X_test_multi)\n",
        "\n",
        "accuracy_ovo = accuracy_score(y_test_multi, y_pred_ovo)\n",
        "print(f\"Model Accuracy with One-vs-One (OvO): {accuracy_ovo:.4f}\")"
      ],
      "metadata": {
        "colab": {
          "base_uri": "https://localhost:8080/"
        },
        "id": "G4stlFprP9zb",
        "outputId": "09e3b95c-f9f9-4268-d83f-480b673c6f28"
      },
      "execution_count": 12,
      "outputs": [
        {
          "output_type": "stream",
          "name": "stdout",
          "text": [
            "Model Accuracy with One-vs-One (OvO): 0.9450\n"
          ]
        }
      ]
    },
    {
      "cell_type": "markdown",
      "source": [
        "11.Write a Python program to train a Logistic Regression model and visualize the confusion matrix for binary classification."
      ],
      "metadata": {
        "id": "Kau2lfI0QEK8"
      }
    },
    {
      "cell_type": "code",
      "source": [
        "import matplotlib.pyplot as plt\n",
        "import seaborn as sns\n",
        "from sklearn.metrics import confusion_matrix\n",
        "\n",
        "cm = confusion_matrix(y_test, y_pred)\n",
        "\n",
        "plt.figure(figsize=(8, 6))\n",
        "sns.heatmap(cm, annot=True, fmt='d', cmap='Blues', xticklabels=['Class 0', 'Class 1'], yticklabels=['Class 0', 'Class 1'])\n",
        "plt.xlabel('Predicted Label')\n",
        "plt.ylabel('True Label')\n",
        "plt.title('Confusion Matrix for Binary Classification')\n",
        "plt.show()"
      ],
      "metadata": {
        "colab": {
          "base_uri": "https://localhost:8080/",
          "height": 564
        },
        "id": "sfjo1u6tQbnN",
        "outputId": "f95be916-aa23-4c42-f69b-e3e74aa6d6f4"
      },
      "execution_count": 13,
      "outputs": [
        {
          "output_type": "display_data",
          "data": {
            "text/plain": [
              "<Figure size 800x600 with 2 Axes>"
            ],
            "image/png": "[encoded data removed]"
          },
          "metadata": {}
        }
      ]
    },
    {
      "cell_type": "markdown",
      "source": [
        "12.Write a Python program to train a Logistic Regression model and evaluate its performance using Precision,Recall, and F1-Score."
      ],
      "metadata": {
        "id": "2RVb2__zQePX"
      }
    },
    {
      "cell_type": "code",
      "source": [
        "from sklearn.metrics import precision_score, recall_score, f1_score\n",
        "\n",
        "precision = precision_score(y_test, y_pred)\n",
        "recall = recall_score(y_test, y_pred)\n",
        "f1 = f1_score(y_test, y_pred)\n",
        "\n",
        "print(f\"\\nPrecision: {precision:.4f}\")\n",
        "print(f\"Recall: {recall:.4f}\")\n",
        "print(f\"F1-Score: {f1:.4f}\")"
      ],
      "metadata": {
        "colab": {
          "base_uri": "https://localhost:8080/"
        },
        "id": "DZK-WlTlQxZh",
        "outputId": "b270fb9e-ff3b-4c91-fdae-6239f31cb549"
      },
      "execution_count": 14,
      "outputs": [
        {
          "output_type": "stream",
          "name": "stdout",
          "text": [
            "\n",
            "Precision: 0.7767\n",
            "Recall: 0.8163\n",
            "F1-Score: 0.7960\n"
          ]
        }
      ]
    },
    {
      "cell_type": "markdown",
      "source": [
        "13.Write a Python program to train a Logistic Regression model on imbalanced data and apply class weights to improve model performance."
      ],
      "metadata": {
        "id": "YSjgCLW0Q0KO"
      }
    },
    {
      "cell_type": "code",
      "source": [
        "X_imb, y_imb = make_classification(n_samples=1000, n_features=20, n_informative=10, n_redundant=5,\n",
        "                                  weights=[0.9, 0.1], flip_y=0, random_state=42)\n",
        "\n",
        "X_train_imb, X_test_imb, y_train_imb, y_test_imb = train_test_split(X_imb, y_imb, test_size=0.2, random_state=42, stratify=y_imb)\n",
        "\n",
        "model_no_weights = LogisticRegression(random_state=42)\n",
        "model_no_weights.fit(X_train_imb, y_train_imb)\n",
        "\n",
        "y_pred_no_weights = model_no_weights.predict(X_test_imb)\n",
        "\n",
        "accuracy_no_weights = accuracy_score(y_test_imb, y_pred_no_weights)\n",
        "precision_no_weights = precision_score(y_test_imb, y_pred_no_weights)\n",
        "recall_no_weights = recall_score(y_test_imb, y_pred_no_weights)\n",
        "f1_no_weights = f1_score(y_test_imb, y_pred_no_weights)\n",
        "\n",
        "print(\"--- Model without Class Weights ---\")\n",
        "print(f\"Accuracy: {accuracy_no_weights:.4f}\")\n",
        "print(f\"Precision: {precision_no_weights:.4f}\")\n",
        "print(f\"Recall: {recall_no_weights:.4f}\")\n",
        "print(f\"F1-Score: {f1_no_weights:.4f}\")\n",
        "\n",
        "model_with_weights = LogisticRegression(random_state=42, class_weight='balanced')\n",
        "model_with_weights.fit(X_train_imb, y_train_imb)\n",
        "\n",
        "y_pred_with_weights = model_with_weights.predict(X_test_imb)\n",
        "\n",
        "accuracy_with_weights = accuracy_score(y_test_imb, y_pred_with_weights)\n",
        "precision_with_weights = precision_score(y_test_imb, y_pred_with_weights)\n",
        "recall_with_weights = recall_score(y_test_imb, y_pred_with_weights)\n",
        "f1_with_weights = f1_score(y_test_imb, y_pred_with_weights)\n",
        "\n",
        "print(\"\\n--- Model with Class Weights ---\")\n",
        "print(f\"Accuracy: {accuracy_with_weights:.4f}\")\n",
        "print(f\"Precision: {precision_with_weights:.4f}\")\n",
        "print(f\"Recall: {recall_with_weights:.4f}\")\n",
        "print(f\"F1-Score: {f1_with_weights:.4f}\")\n",
        "\n",
        "cm_no_weights = confusion_matrix(y_test_imb, y_pred_no_weights)\n",
        "cm_with_weights = confusion_matrix(y_test_imb, y_pred_with_weights)\n",
        "\n",
        "fig, axes = plt.subplots(1, 2, figsize=(14, 6))\n",
        "\n",
        "sns.heatmap(cm_no_weights, annot=True, fmt='d', cmap='Blues', xticklabels=['Class 0', 'Class 1'], yticklabels=['Class 0', 'Class 1'], ax=axes[0])\n",
        "axes[0].set_xlabel('Predicted Label')\n",
        "axes[0].set_ylabel('True Label')\n",
        "axes[0].set_title('Confusion Matrix (No Class Weights)')\n",
        "\n",
        "sns.heatmap(cm_with_weights, annot=True, fmt='d', cmap='Blues', xticklabels=['Class 0', 'Class 1'], yticklabels=['Class 0', 'Class 1'], ax=axes[1])\n",
        "axes[1].set_xlabel('Predicted Label')\n",
        "axes[1].set_ylabel('True Label')\n",
        "axes[1].set_title('Confusion Matrix (With Class Weights)')\n",
        "\n",
        "plt.tight_layout()\n",
        "plt.show()"
      ],
      "metadata": {
        "colab": {
          "base_uri": "https://localhost:8080/",
          "height": 749
        },
        "id": "9grmg0rgRTig",
        "outputId": "15618027-1e8e-4e9c-972a-57a89b8d8816"
      },
      "execution_count": 15,
      "outputs": [
        {
          "output_type": "stream",
          "name": "stdout",
          "text": [
            "--- Model without Class Weights ---\n",
            "Accuracy: 0.9150\n",
            "Precision: 0.6154\n",
            "Recall: 0.4000\n",
            "F1-Score: 0.4848\n",
            "\n",
            "--- Model with Class Weights ---\n",
            "Accuracy: 0.8150\n",
            "Precision: 0.3265\n",
            "Recall: 0.8000\n",
            "F1-Score: 0.4638\n"
          ]
        },
        {
          "output_type": "display_data",
          "data": {
            "text/plain": [
              "<Figure size 1400x600 with 4 Axes>"
            ],
            "image/png": "[encoded data removed]"
          },
          "metadata": {}
        }
      ]
    },
    {
      "cell_type": "markdown",
      "source": [
        "14.Write a Python program to train Logistic Regression on the Titanic dataset, handle missing values, and evaluate performance."
      ],
      "metadata": {
        "id": "ukLUAxQLRgQj"
      }
    },
    {
      "cell_type": "code",
      "source": [
        "!wget https://raw.githubusercontent.com/datasciencedojo/datasets/master/titanic.csv\n",
        "\n",
        "titanic_df = pd.read_csv('titanic.csv')\n",
        "\n",
        "titanic_df = titanic_df.drop(['PassengerId', 'Name', 'Ticket', 'Cabin'], axis=1)\n",
        "\n",
        "titanic_df['Age'].fillna(titanic_df['Age'].median(), inplace=True)\n",
        "titanic_df['Embarked'].fillna(titanic_df['Embarked'].mode()[0], inplace=True)\n",
        "\n",
        "titanic_df['Sex'] = titanic_df['Sex'].map({'male': 0, 'female': 1})\n",
        "titanic_df = pd.get_dummies(titanic_df, columns=['Embarked'], drop_first=True)\n",
        "\n",
        "X_titanic = titanic_df.drop('Survived', axis=1)\n",
        "y_titanic = titanic_df['Survived']\n",
        "\n",
        "X_train_titanic, X_test_titanic, y_train_titanic, y_test_titanic = train_test_split(X_titanic, y_titanic, test_size=0.2, random_state=42)\n",
        "\n",
        "model_titanic = LogisticRegression(random_state=42, max_iter=200)\n",
        "model_titanic.fit(X_train_titanic, y_train_titanic)\n",
        "\n",
        "y_pred_titanic = model_titanic.predict(X_test_titanic)\n",
        "\n",
        "accuracy_titanic = accuracy_score(y_test_titanic, y_pred_titanic)\n",
        "precision_titanic = precision_score(y_test_titanic, y_pred_titanic)\n",
        "recall_titanic = recall_score(y_test_titanic, y_pred_titanic)\n",
        "f1_titanic = f1_score(y_test_titanic, y_pred_titanic)\n",
        "cm_titanic = confusion_matrix(y_test_titanic, y_pred_titanic)\n",
        "\n",
        "\n",
        "print(\"\\n--- Logistic Regression on Titanic Dataset ---\")\n",
        "print(f\"Accuracy: {accuracy_titanic:.4f}\")\n",
        "print(f\"Precision: {precision_titanic:.4f}\")\n",
        "print(f\"Recall: {recall_titanic:.4f}\")\n",
        "print(f\"F1-Score: {f1_titanic:.4f}\")\n",
        "\n",
        "plt.figure(figsize=(8, 6))\n",
        "sns.heatmap(cm_titanic, annot=True, fmt='d', cmap='Blues', xticklabels=['Not Survived', 'Survived'], yticklabels=['Not Survived', 'Survived'])\n",
        "plt.xlabel('Predicted Label')\n",
        "plt.ylabel('True Label')\n",
        "plt.title('Confusion Matrix for Titanic Survival Prediction')\n",
        "plt.show()"
      ],
      "metadata": {
        "colab": {
          "base_uri": "https://localhost:8080/",
          "height": 1000
        },
        "id": "nu5VXQs6R8Nr",
        "outputId": "cb920b0b-ad75-47ee-c8f7-e5f792253e00"
      },
      "execution_count": 16,
      "outputs": [
        {
          "output_type": "stream",
          "name": "stdout",
          "text": [
            "--2025-05-19 09:42:20--  https://raw.githubusercontent.com/datasciencedojo/datasets/master/titanic.csv\n",
            "Resolving raw.githubusercontent.com (raw.githubusercontent.com)... 185.199.108.133, 185.199.109.133, 185.199.110.133, ...\n",
            "Connecting to raw.githubusercontent.com (raw.githubusercontent.com)|185.199.108.133|:443... connected.\n",
            "HTTP request sent, awaiting response... 200 OK\n",
            "Length: 60302 (59K) [text/plain]\n",
            "Saving to: ‘titanic.csv’\n",
            "\n",
            "\rtitanic.csv           0%[                    ]       0  --.-KB/s               \rtitanic.csv         100%[===================>]  58.89K  --.-KB/s    in 0.01s   \n",
            "\n",
            "2025-05-19 09:42:20 (4.03 MB/s) - ‘titanic.csv’ saved [60302/60302]\n",
            "\n"
          ]
        },
        {
          "output_type": "stream",
          "name": "stderr",
          "text": [
            "<ipython-input-16-748a72a35bad>:7: FutureWarning: A value is trying to be set on a copy of a DataFrame or Series through chained assignment using an inplace method.\n",
            "The behavior will change in pandas 3.0. This inplace method will never work because the intermediate object on which we are setting values always behaves as a copy.\n",
            "\n",
            "For example, when doing 'df[col].method(value, inplace=True)', try using 'df.method({col: value}, inplace=True)' or df[col] = df[col].method(value) instead, to perform the operation inplace on the original object.\n",
            "\n",
            "\n",
            "  titanic_df['Age'].fillna(titanic_df['Age'].median(), inplace=True)\n",
            "<ipython-input-16-748a72a35bad>:8: FutureWarning: A value is trying to be set on a copy of a DataFrame or Series through chained assignment using an inplace method.\n",
            "The behavior will change in pandas 3.0. This inplace method will never work because the intermediate object on which we are setting values always behaves as a copy.\n",
            "\n",
            "For example, when doing 'df[col].method(value, inplace=True)', try using 'df.method({col: value}, inplace=True)' or df[col] = df[col].method(value) instead, to perform the operation inplace on the original object.\n",
            "\n",
            "\n",
            "  titanic_df['Embarked'].fillna(titanic_df['Embarked'].mode()[0], inplace=True)\n"
          ]
        },
        {
          "output_type": "stream",
          "name": "stdout",
          "text": [
            "\n",
            "--- Logistic Regression on Titanic Dataset ---\n",
            "Accuracy: 0.8101\n",
            "Precision: 0.7857\n",
            "Recall: 0.7432\n",
            "F1-Score: 0.7639\n"
          ]
        },
        {
          "output_type": "display_data",
          "data": {
            "text/plain": [
              "<Figure size 800x600 with 2 Axes>"
            ],
            "image/png": "[encoded data removed]"
          },
          "metadata": {}
        }
      ]
    },
    {
      "cell_type": "markdown",
      "source": [
        "15.Write a Python program to apply feature scaling (Standardization) before training a Logistic Regression model.Evaluate its accuracy and compare results with and without scaling."
      ],
      "metadata": {
        "id": "0K2Lnjs3SMRP"
      }
    },
    {
      "cell_type": "code",
      "source": [
        "from sklearn.preprocessing import StandardScaler\n",
        "\n",
        "# Without Scaling\n",
        "model_no_scaling = LogisticRegression(random_state=42)\n",
        "model_no_scaling.fit(X_train, y_train)\n",
        "y_pred_no_scaling = model_no_scaling.predict(X_test)\n",
        "accuracy_no_scaling = accuracy_score(y_test, y_pred_no_scaling)\n",
        "\n",
        "print(\"--- Model without Feature Scaling ---\")\n",
        "print(f\"Accuracy: {accuracy_no_scaling:.4f}\")\n",
        "\n",
        "# With Scaling\n",
        "scaler = StandardScaler()\n",
        "X_train_scaled = scaler.fit_transform(X_train)\n",
        "X_test_scaled = scaler.transform(X_test)\n",
        "\n",
        "model_with_scaling = LogisticRegression(random_state=42)\n",
        "model_with_scaling.fit(X_train_scaled, y_train)\n",
        "y_pred_with_scaling = model_with_scaling.predict(X_test_scaled)\n",
        "accuracy_with_scaling = accuracy_score(y_test, y_pred_with_scaling)\n",
        "\n",
        "print(\"\\n--- Model with Feature Scaling (Standardization) ---\")\n",
        "print(f\"Accuracy: {accuracy_with_scaling:.4f}\")\n",
        "\n",
        "print(\"\\nComparison of Accuracy:\")\n",
        "print(f\"Accuracy without Scaling: {accuracy_no_scaling:.4f}\")\n",
        "print(f\"Accuracy with Scaling: {accuracy_with_scaling:.4f}\")"
      ],
      "metadata": {
        "colab": {
          "base_uri": "https://localhost:8080/"
        },
        "id": "72kxH8OUSlEc",
        "outputId": "a414811b-6da4-413f-dc7a-4cad7fb24798"
      },
      "execution_count": 17,
      "outputs": [
        {
          "output_type": "stream",
          "name": "stdout",
          "text": [
            "--- Model without Feature Scaling ---\n",
            "Accuracy: 0.7950\n",
            "\n",
            "--- Model with Feature Scaling (Standardization) ---\n",
            "Accuracy: 0.8000\n",
            "\n",
            "Comparison of Accuracy:\n",
            "Accuracy without Scaling: 0.7950\n",
            "Accuracy with Scaling: 0.8000\n"
          ]
        }
      ]
    },
    {
      "cell_type": "markdown",
      "source": [
        "16.Write a Python program to train Logistic Regression and evaluate its performance using ROC-AUC score."
      ],
      "metadata": {
        "id": "BKMCy-1vSrCu"
      }
    },
    {
      "cell_type": "code",
      "source": [
        "from sklearn.metrics import roc_curve, auc\n",
        "\n",
        "y_prob = model.predict_proba(X_test)[:, 1]\n",
        "\n",
        "fpr, tpr, thresholds = roc_curve(y_test, y_prob)\n",
        "roc_auc = auc(fpr, tpr)\n",
        "\n",
        "plt.figure(figsize=(8, 6))\n",
        "plt.plot(fpr, tpr, color='darkorange', lw=2, label='ROC curve (area = %0.2f)' % roc_auc)\n",
        "plt.plot([0, 1], [0, 1], color='navy', lw=2, linestyle='--')\n",
        "plt.xlim([0.0, 1.0])\n",
        "plt.ylim([0.0, 1.05])\n",
        "plt.xlabel('False Positive Rate')\n",
        "plt.ylabel('True Positive Rate')\n",
        "plt.title('Receiver Operating Characteristic (ROC) Curve')\n",
        "plt.legend(loc=\"lower right\")\n",
        "plt.show()\n",
        "\n",
        "print(f\"\\nROC AUC Score: {roc_auc:.4f}\")"
      ],
      "metadata": {
        "id": "TW-XuP0tS7fb",
        "outputId": "34238922-debf-4257-ffcc-4749a19533af",
        "colab": {
          "base_uri": "https://localhost:8080/",
          "height": 599
        }
      },
      "execution_count": 18,
      "outputs": [
        {
          "output_type": "display_data",
          "data": {
            "text/plain": [
              "<Figure size 800x600 with 1 Axes>"
            ],
            "image/png": "[encoded data removed]"
          },
          "metadata": {}
        },
        {
          "output_type": "stream",
          "name": "stdout",
          "text": [
            "\n",
            "ROC AUC Score: 0.8924\n"
          ]
        }
      ]
    },
    {
      "cell_type": "markdown",
      "source": [
        "17.Write a Python program to train Logistic Regression using a custom learning rate (C=0.5) and evaluate accuracy."
      ],
      "metadata": {
        "id": "M8og4tGE6Qbd"
      }
    },
    {
      "cell_type": "code",
      "source": [
        "model_custom_c = LogisticRegression(C=0.5, random_state=42)\n",
        "model_custom_c.fit(X_train, y_train)\n",
        "\n",
        "y_pred_custom_c = model_custom_c.predict(X_test)\n",
        "\n",
        "accuracy_custom_c = accuracy_score(y_test, y_pred_custom_c)\n",
        "\n",
        "print(f\"\\nModel Accuracy with custom C (0.5): {accuracy_custom_c:.4f}\")"
      ],
      "metadata": {
        "colab": {
          "base_uri": "https://localhost:8080/"
        },
        "id": "YJOtdpOA7P4K",
        "outputId": "6e51000e-e8cd-4e2c-fe80-5409524bfab1"
      },
      "execution_count": 20,
      "outputs": [
        {
          "output_type": "stream",
          "name": "stdout",
          "text": [
            "\n",
            "Model Accuracy with custom C (0.5): 0.7950\n"
          ]
        }
      ]
    },
    {
      "cell_type": "markdown",
      "source": [
        "18.Write a Python program to train Logistic Regression and identify important features based on model coefficients."
      ],
      "metadata": {
        "id": "gmn7o1je7Sj3"
      }
    },
    {
      "cell_type": "code",
      "source": [
        "print(\"\\n--- Identifying Important Features based on Coefficients ---\")\n",
        "feature_names = [f'feature_{i}' for i in range(X.shape[1])]\n",
        "coefficients = model.coef_[0]\n",
        "\n",
        "coef_df = pd.DataFrame({'Feature': feature_names, 'Coefficient': coefficients})\n",
        "\n",
        "coef_df['Abs_Coefficient'] = np.abs(coef_df['Coefficient'])\n",
        "sorted_coef_df = coef_df.sort_values(by='Abs_Coefficient', ascending=False)\n",
        "\n",
        "print(\"\\nTop 10 Important Features (based on absolute coefficient magnitude):\")\n",
        "print(sorted_coef_df.head(10))\n",
        "\n",
        "plt.figure(figsize=(12, 8))\n",
        "sns.barplot(x='Coefficient', y='Feature', data=sorted_coef_df.head(10))\n",
        "plt.title('Top 10 Feature Importance based on Logistic Regression Coefficients')\n",
        "plt.xlabel('Coefficient Value')\n",
        "plt.ylabel('Feature')\n",
        "plt.show()"
      ],
      "metadata": {
        "colab": {
          "base_uri": "https://localhost:8080/",
          "height": 978
        },
        "id": "BNRgw_pF7iQV",
        "outputId": "61e346be-f0ab-4558-f527-2f90c0260b81"
      },
      "execution_count": 23,
      "outputs": [
        {
          "output_type": "stream",
          "name": "stdout",
          "text": [
            "\n",
            "--- Identifying Important Features based on Coefficients ---\n",
            "\n",
            "Top 10 Important Features (based on absolute coefficient magnitude):\n",
            "       Feature  Coefficient  Abs_Coefficient\n",
            "11  feature_11     0.651270         0.651270\n",
            "14  feature_14    -0.565964         0.565964\n",
            "2    feature_2    -0.542849         0.542849\n",
            "15  feature_15    -0.425930         0.425930\n",
            "17  feature_17     0.377717         0.377717\n",
            "3    feature_3    -0.289054         0.289054\n",
            "7    feature_7     0.283839         0.283839\n",
            "5    feature_5    -0.237133         0.237133\n",
            "18  feature_18     0.171816         0.171816\n",
            "1    feature_1     0.160185         0.160185\n"
          ]
        },
        {
          "output_type": "display_data",
          "data": {
            "text/plain": [
              "<Figure size 1200x800 with 1 Axes>"
            ],
            "image/png": "[encoded data removed]"
          },
          "metadata": {}
        }
      ]
    },
    {
      "cell_type": "markdown",
      "source": [
        "19.Write a Python program to train Logistic Regression and evaluate its performance using Cohen’s Kappa Score."
      ],
      "metadata": {
        "id": "cIMyMF6j7u_l"
      }
    },
    {
      "cell_type": "code",
      "source": [
        "from sklearn.metrics import cohen_kappa_score\n",
        "\n",
        "kappa = cohen_kappa_score(y_test, y_pred)\n",
        "print(f\"\\nCohen's Kappa Score: {kappa:.4f}\")"
      ],
      "metadata": {
        "colab": {
          "base_uri": "https://localhost:8080/"
        },
        "id": "aMZmfJ1Q8EL6",
        "outputId": "0996ae0d-844f-4f01-cfa5-1c6d5c4bf434"
      },
      "execution_count": 25,
      "outputs": [
        {
          "output_type": "stream",
          "name": "stdout",
          "text": [
            "\n",
            "Cohen's Kappa Score: 0.5902\n"
          ]
        }
      ]
    },
    {
      "cell_type": "markdown",
      "source": [
        "20.Write a Python program to train Logistic Regression and visualize the Precision-Recall Curve for binary classification."
      ],
      "metadata": {
        "id": "SuXopLoY8Ggd"
      }
    },
    {
      "cell_type": "code",
      "source": [
        "from sklearn.metrics import precision_recall_curve, auc\n",
        "\n",
        "y_prob = model.predict_proba(X_test)[:, 1]\n",
        "\n",
        "precision, recall, _ = precision_recall_curve(y_test, y_prob)\n",
        "pr_auc = auc(recall, precision)\n",
        "\n",
        "plt.figure(figsize=(8, 6))\n",
        "plt.plot(recall, precision, color='darkorange', lw=2, label='Precision-Recall curve (area = %0.2f)' % pr_auc)\n",
        "plt.xlabel('Recall')\n",
        "plt.ylabel('Precision')\n",
        "plt.title('Precision-Recall Curve')\n",
        "plt.legend(loc=\"lower left\")\n",
        "plt.show()\n",
        "\n",
        "print(f\"\\nPrecision-Recall AUC: {pr_auc:.4f}\")"
      ],
      "metadata": {
        "colab": {
          "base_uri": "https://localhost:8080/",
          "height": 599
        },
        "id": "IMyZ7PP78XvG",
        "outputId": "5c02cd47-4170-4718-b3c9-f4b8244a6734"
      },
      "execution_count": 27,
      "outputs": [
        {
          "output_type": "display_data",
          "data": {
            "text/plain": [
              "<Figure size 800x600 with 1 Axes>"
            ],
            "image/png": "[encoded data removed]"
          },
          "metadata": {}
        },
        {
          "output_type": "stream",
          "name": "stdout",
          "text": [
            "\n",
            "Precision-Recall AUC: 0.8626\n"
          ]
        }
      ]
    },
    {
      "cell_type": "markdown",
      "source": [
        "21.Write a Python program to train Logistic Regression with different solvers (liblinear, saga, lbfgs) and compare their accuracy."
      ],
      "metadata": {
        "id": "Ew8T6m1z8aTJ"
      }
    },
    {
      "cell_type": "code",
      "source": [
        "solvers = ['liblinear', 'lbfgs', 'saga']\n",
        "accuracy_results = {}\n",
        "\n",
        "for solver in solvers:\n",
        "  print(f\"\\n--- Training with solver: {solver} ---\")\n",
        "  try:\n",
        "    model_solver = LogisticRegression(solver=solver, random_state=42, max_iter=1000)\n",
        "    model_solver.fit(X_train, y_train)\n",
        "    y_pred_solver = model_solver.predict(X_test)\n",
        "    accuracy_solver = accuracy_score(y_test, y_pred_solver)\n",
        "    accuracy_results[solver] = accuracy_solver\n",
        "    print(f\"Accuracy with {solver} solver: {accuracy_solver:.4f}\")\n",
        "  except ValueError as e:\n",
        "    print(f\"Could not train with {solver} solver: {e}\")\n",
        "\n",
        "print(\"\\n--- Accuracy Comparison of Solvers ---\")\n",
        "for solver, accuracy in accuracy_results.items():\n",
        "  print(f\"{solver}: {accuracy:.4f}\")\n",
        "\n",
        "if accuracy_results:\n",
        "    solvers_trained = list(accuracy_results.keys())\n",
        "    accuracies_trained = list(accuracy_results.values())\n",
        "\n",
        "    plt.figure(figsize=(8, 6))\n",
        "    sns.barplot(x=solvers_trained, y=accuracies_trained, palette='viridis')\n",
        "    plt.xlabel('Solver')\n",
        "    plt.ylabel('Accuracy')\n",
        "    plt.title('Logistic Regression Accuracy Comparison with Different Solvers')\n",
        "    plt.ylim(min(accuracies_trained) * 0.9, max(accuracies_trained) * 1.1)\n",
        "    plt.show()\n",
        "else:\n",
        "    print(\"No solvers were successfully trained to compare.\")"
      ],
      "metadata": {
        "colab": {
          "base_uri": "https://localhost:8080/",
          "height": 914
        },
        "id": "igKlu_vU8sNH",
        "outputId": "3803e5f3-65b3-46a1-e714-1e5beaa5f76c"
      },
      "execution_count": 29,
      "outputs": [
        {
          "output_type": "stream",
          "name": "stdout",
          "text": [
            "\n",
            "--- Training with solver: liblinear ---\n",
            "Accuracy with liblinear solver: 0.7950\n",
            "\n",
            "--- Training with solver: lbfgs ---\n",
            "Accuracy with lbfgs solver: 0.7950\n",
            "\n",
            "--- Training with solver: saga ---\n",
            "Accuracy with saga solver: 0.7950\n",
            "\n",
            "--- Accuracy Comparison of Solvers ---\n",
            "liblinear: 0.7950\n",
            "lbfgs: 0.7950\n",
            "saga: 0.7950\n"
          ]
        },
        {
          "output_type": "stream",
          "name": "stderr",
          "text": [
            "<ipython-input-29-3454acae58ea>:25: FutureWarning: \n",
            "\n",
            "Passing `palette` without assigning `hue` is deprecated and will be removed in v0.14.0. Assign the `x` variable to `hue` and set `legend=False` for the same effect.\n",
            "\n",
            "  sns.barplot(x=solvers_trained, y=accuracies_trained, palette='viridis')\n"
          ]
        },
        {
          "output_type": "display_data",
          "data": {
            "text/plain": [
              "<Figure size 800x600 with 1 Axes>"
            ],
            "image/png": "[encoded data removed]"
          },
          "metadata": {}
        }
      ]
    },
    {
      "cell_type": "markdown",
      "source": [
        "22.Write a Python program to train Logistic Regression and evaluate its performance using Matthews Correlation Coefficient (MCC)."
      ],
      "metadata": {
        "id": "6gy5gUwR84dv"
      }
    },
    {
      "cell_type": "code",
      "source": [
        "from sklearn.metrics import matthews_corrcoef\n",
        "\n",
        "mcc = matthews_corrcoef(y_test, y_pred)\n",
        "print(f\"\\nMatthews Correlation Coefficient (MCC): {mcc:.4f}\")"
      ],
      "metadata": {
        "colab": {
          "base_uri": "https://localhost:8080/"
        },
        "id": "3r3hx-Vy9FMD",
        "outputId": "d7cd41cc-044f-465a-d43e-ae55b0e13ade"
      },
      "execution_count": 31,
      "outputs": [
        {
          "output_type": "stream",
          "name": "stdout",
          "text": [
            "\n",
            "Matthews Correlation Coefficient (MCC): 0.5910\n"
          ]
        }
      ]
    },
    {
      "cell_type": "markdown",
      "source": [
        "23.Write a Python program to train Logistic Regression on both raw and standardized data. Compare their accuracy to see the impact of feature scaling."
      ],
      "metadata": {
        "id": "DLli9tlh9G4M"
      }
    },
    {
      "cell_type": "code",
      "source": [
        "# without Scaling\n",
        "model_no_scaling = LogisticRegression(random_state=42)\n",
        "model_no_scaling.fit(X_train, y_train)\n",
        "y_pred_no_scaling = model_no_scaling.predict(X_test)\n",
        "accuracy_no_scaling = accuracy_score(y_test, y_pred_no_scaling)\n",
        "\n",
        "print(\"--- Model without Feature Scaling ---\")\n",
        "print(f\"Accuracy: {accuracy_no_scaling:.4f}\")\n",
        "\n",
        "# With Scaling\n",
        "scaler = StandardScaler()\n",
        "X_train_scaled = scaler.fit_transform(X_train)\n",
        "X_test_scaled = scaler.transform(X_test)\n",
        "\n",
        "model_with_scaling = LogisticRegression(random_state=42)\n",
        "model_with_scaling.fit(X_train_scaled, y_train)\n",
        "y_pred_with_scaling = model_with_scaling.predict(X_test_scaled)\n",
        "accuracy_with_scaling = accuracy_score(y_test, y_pred_with_scaling)\n",
        "\n",
        "print(\"\\n--- Model with Feature Scaling (Standardization) ---\")\n",
        "print(f\"Accuracy: {accuracy_with_scaling:.4f}\")\n",
        "\n",
        "print(\"\\nComparison of Accuracy:\")\n",
        "print(f\"Accuracy without Scaling: {accuracy_no_scaling:.4f}\")\n",
        "print(f\"Accuracy with Scaling: {accuracy_with_scaling:.4f}\")"
      ],
      "metadata": {
        "colab": {
          "base_uri": "https://localhost:8080/"
        },
        "id": "JUC-005t9ZR7",
        "outputId": "c37189fd-2bb3-4a16-f4f1-e25a516ecb7f"
      },
      "execution_count": 34,
      "outputs": [
        {
          "output_type": "stream",
          "name": "stdout",
          "text": [
            "--- Model without Feature Scaling ---\n",
            "Accuracy: 0.7950\n",
            "\n",
            "--- Model with Feature Scaling (Standardization) ---\n",
            "Accuracy: 0.8000\n",
            "\n",
            "Comparison of Accuracy:\n",
            "Accuracy without Scaling: 0.7950\n",
            "Accuracy with Scaling: 0.8000\n"
          ]
        }
      ]
    },
    {
      "cell_type": "markdown",
      "source": [
        "24.Write a Python program to train Logistic Regression and find the optimal C (regularization strength) using cross-validation."
      ],
      "metadata": {
        "id": "cQJI6be891o6"
      }
    },
    {
      "cell_type": "code",
      "source": [
        "param_grid_c = {\n",
        "    'C': [0.001, 0.01, 0.1, 1, 10, 100]\n",
        "}\n",
        "\n",
        "grid_search_c = GridSearchCV(LogisticRegression(random_state=42), param_grid_c, cv=5, scoring='accuracy')\n",
        "grid_search_c.fit(X_train, y_train)\n",
        "\n",
        "print(\"Optimal C found by GridSearchCV:\")\n",
        "print(grid_search_c.best_params_)\n",
        "\n",
        "best_model_c = grid_search_c.best_estimator_\n",
        "y_pred_optimal_c = best_model_c.predict(X_test)\n",
        "\n",
        "accuracy_optimal_c = accuracy_score(y_test, y_pred_optimal_c)\n",
        "print(f\"Model Accuracy with optimal C: {accuracy_optimal_c:.4f}\")"
      ],
      "metadata": {
        "colab": {
          "base_uri": "https://localhost:8080/"
        },
        "id": "yDKsMVq--DcX",
        "outputId": "76fee5a3-9b3c-42a7-d627-51c33cabad31"
      },
      "execution_count": 36,
      "outputs": [
        {
          "output_type": "stream",
          "name": "stdout",
          "text": [
            "Optimal C found by GridSearchCV:\n",
            "{'C': 1}\n",
            "Model Accuracy with optimal C: 0.7950\n"
          ]
        }
      ]
    },
    {
      "cell_type": "markdown",
      "source": [
        "25.Write a Python program to train Logistic Regression, save the trained model using joblib, and load it again to make predictions."
      ],
      "metadata": {
        "id": "c0QC_VtH-G2a"
      }
    },
    {
      "cell_type": "code",
      "source": [
        "import joblib\n",
        "\n",
        "# Train the model (already done in the previous tasks, using the default model)\n",
        "# For demonstration, let's retrain the default model\n",
        "model = LogisticRegression(random_state=42)\n",
        "model.fit(X_train, y_train)\n",
        "\n",
        "# Save the trained model to a file\n",
        "filename = 'logistic_regression_model.joblib'\n",
        "joblib.dump(model, filename)\n",
        "\n",
        "print(f\"Model saved to {filename}\")\n",
        "\n",
        "# Load the trained model from the file\n",
        "loaded_model = joblib.load(filename)\n",
        "\n",
        "print(f\"Model loaded from {filename}\")\n",
        "\n",
        "# Make predictions using the loaded model\n",
        "y_pred_loaded = loaded_model.predict(X_test)\n",
        "\n",
        "# Evaluate the loaded model's predictions (should be the same as the original model's predictions)\n",
        "accuracy_loaded = accuracy_score(y_test, y_pred_loaded)\n",
        "\n",
        "print(f\"Accuracy using the loaded model: {accuracy_loaded:.4f}\")\n",
        "\n",
        "# Verify that the predictions are identical\n",
        "print(f\"Predictions from original model: {y_pred[:5]}\")\n",
        "print(f\"Predictions from loaded model:   {y_pred_loaded[:5]}\")\n",
        "print(f\"Predictions are identical: {np.array_equal(y_pred, y_pred_loaded)}\")"
      ],
      "metadata": {
        "colab": {
          "base_uri": "https://localhost:8080/"
        },
        "id": "Ro9BLzYf-YD-",
        "outputId": "77647afc-6d3c-4e4b-f0f5-93ab6fb0da3e"
      },
      "execution_count": 38,
      "outputs": [
        {
          "output_type": "stream",
          "name": "stdout",
          "text": [
            "Model saved to logistic_regression_model.joblib\n",
            "Model loaded from logistic_regression_model.joblib\n",
            "Accuracy using the loaded model: 0.7950\n",
            "Predictions from original model: [1 0 0 1 0]\n",
            "Predictions from loaded model:   [1 0 0 1 0]\n",
            "Predictions are identical: True\n"
          ]
        }
      ]
    }
  ]
}